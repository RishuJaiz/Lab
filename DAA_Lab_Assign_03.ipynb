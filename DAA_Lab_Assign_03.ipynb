{
 "cells": [
  {
   "cell_type": "markdown",
   "id": "59340b91",
   "metadata": {},
   "source": [
    "## Q.NO 1"
   ]
  },
  {
   "cell_type": "code",
   "execution_count": 1,
   "id": "74de70a7",
   "metadata": {},
   "outputs": [
    {
     "name": "stdout",
     "output_type": "stream",
     "text": [
      "Pairs found: [(3, 7), (2, 8)]\n"
     ]
    }
   ],
   "source": [
    "def find_all_pairs_with_sum(arr, target_sum):\n",
    "    pairs = set()\n",
    "    seen = set()\n",
    "    for num in arr:\n",
    "        complement = target_sum - num\n",
    "        if complement in seen:\n",
    "            pairs.add((min(num, complement), max(num, complement)))\n",
    "        seen.add(num)\n",
    "\n",
    "    # Convert the set of pairs to a list and return\n",
    "    return list(pairs)\n",
    "\n",
    "# Example usage\n",
    "arr = [8, 7, 2, 5, 3, 1]\n",
    "target_sum = 10\n",
    "pairs = find_all_pairs_with_sum(arr, target_sum)\n",
    "if pairs:\n",
    "    print(\"Pairs found:\", pairs)\n",
    "else:\n",
    "    print(\"Pair not found\")\n"
   ]
  },
  {
   "cell_type": "markdown",
   "id": "d9ff4be3",
   "metadata": {},
   "source": [
    "## Q.NO 1"
   ]
  },
  {
   "cell_type": "code",
   "execution_count": 2,
   "id": "634c7ad9",
   "metadata": {},
   "outputs": [
    {
     "name": "stdout",
     "output_type": "stream",
     "text": [
      "Pair not found\n"
     ]
    }
   ],
   "source": [
    "def find_all_pairs_with_sum(arr, target_sum):\n",
    "    pairs = set()\n",
    "    seen = set()\n",
    "\n",
    "    for num in arr:\n",
    "        complement = target_sum - num\n",
    "        if complement in seen:\n",
    "            pairs.add((min(num, complement), max(num, complement)))\n",
    "        seen.add(num)\n",
    "\n",
    "    # Convert the set of pairs to a list and return\n",
    "    return list(pairs)\n",
    "\n",
    "# Example usage\n",
    "arr = [5,2,6,8,1,9]\n",
    "target_sum = 12\n",
    "pairs = find_all_pairs_with_sum(arr, target_sum)\n",
    "if pairs:\n",
    "    print(\"Pairs found:\", pairs)\n",
    "else:\n",
    "    print(\"Pair not found\")\n"
   ]
  },
  {
   "cell_type": "markdown",
   "id": "7d7c79ee",
   "metadata": {},
   "source": [
    "## Q.NO 2"
   ]
  },
  {
   "cell_type": "code",
   "execution_count": 3,
   "id": "2ee73fe5",
   "metadata": {},
   "outputs": [
    {
     "name": "stdout",
     "output_type": "stream",
     "text": [
      "Maximum product pair: 72\n"
     ]
    }
   ],
   "source": [
    "def max_product_pair(arr):\n",
    "    n = len(arr)\n",
    "    if n < 2:\n",
    "        return \"Array should contain at least two elements\"\n",
    "    \n",
    "    # Sort the array\n",
    "    arr.sort()\n",
    "    \n",
    "    # Calculate the products\n",
    "    product1 = arr[n-1] * arr[n-2]  \n",
    "    product2 = arr[0] * arr[1]      \n",
    "    product3 = arr[0] * arr[1]     \n",
    "    \n",
    "    # If there are negative numbers in the array\n",
    "    if arr[0] < 0 and arr[1] < 0:\n",
    "        product3 = arr[0] * arr[1]  \n",
    "    \n",
    "    return max(product1, product2, product3)\n",
    "\n",
    "# Example usage\n",
    "arr = [1, 7, 4, 2, 8, 6, 3, 9, 5]\n",
    "print(\"Maximum product pair:\", max_product_pair(arr))\n"
   ]
  },
  {
   "cell_type": "markdown",
   "id": "7af7c324",
   "metadata": {},
   "source": [
    "## Q.NO 3"
   ]
  },
  {
   "cell_type": "code",
   "execution_count": 4,
   "id": "221ac439",
   "metadata": {},
   "outputs": [
    {
     "name": "stdout",
     "output_type": "stream",
     "text": [
      "[3, 5, 6, 7, 8, 9]\n"
     ]
    }
   ],
   "source": [
    "def find_swapped_elements(arr):\n",
    "    first, second = None, None\n",
    "    for i in range(len(arr) - 1):\n",
    "        if arr[i] > arr[i + 1]:\n",
    "            if first is None:\n",
    "                first = i\n",
    "            else:\n",
    "                second = i + 1\n",
    "                break\n",
    "                \n",
    "    if second is None:\n",
    "        second = first + 1\n",
    "    return first, second\n",
    "\n",
    "def sort_array_with_swapped_elements(arr):\n",
    "    first, second = find_swapped_elements(arr)\n",
    "    arr[first], arr[second] = arr[second], arr[first]\n",
    "    return sorted(arr)\n",
    "\n",
    "# Example usage:\n",
    "arr = [3, 8, 6, 7, 5, 9]  \n",
    "sorted_arr = sort_array_with_swapped_elements(arr)\n",
    "print(sorted_arr)  \n"
   ]
  },
  {
   "cell_type": "markdown",
   "id": "f3a953c1",
   "metadata": {},
   "source": [
    "## Q.NO 4"
   ]
  },
  {
   "cell_type": "code",
   "execution_count": 5,
   "id": "46dd659b",
   "metadata": {},
   "outputs": [
    {
     "name": "stdout",
     "output_type": "stream",
     "text": [
      "[0, 0, 0, 0, 0, 1, 1, 1, 1, 1]\n"
     ]
    }
   ],
   "source": [
    "def segregate_zeros_and_ones(arr):\n",
    "    left = 0  # pointer for zeros\n",
    "    right = len(arr) - 1  # pointer for ones\n",
    "\n",
    "    while left < right:\n",
    "        # Move left pointer to the right until it finds a 1\n",
    "        while arr[left] == 0 and left < right:\n",
    "            left += 1\n",
    "\n",
    "        # Move right pointer to the left until it finds a 0\n",
    "        while arr[right] == 1 and left < right:\n",
    "            right -= 1\n",
    "\n",
    "        # Swap 0 and 1\n",
    "        if left < right:\n",
    "            arr[left], arr[right] = arr[right], arr[left]\n",
    "            left += 1\n",
    "            right -= 1\n",
    "\n",
    "    return arr\n",
    "\n",
    "# Example usage:\n",
    "binary_array = [0, 1, 0, 1 , 0 , 0 , 1 , 1 , 1 , 0]\n",
    "print(segregate_zeros_and_ones(binary_array))\n"
   ]
  },
  {
   "cell_type": "markdown",
   "id": "ab1c06be",
   "metadata": {},
   "source": [
    "## Q.NO 5"
   ]
  },
  {
   "cell_type": "code",
   "execution_count": 6,
   "id": "7c3dba18",
   "metadata": {},
   "outputs": [
    {
     "name": "stdout",
     "output_type": "stream",
     "text": [
      "The number of inversions: 8\n"
     ]
    }
   ],
   "source": [
    "def merge(arr, temp_arr, left, mid, right):\n",
    "    i = left\n",
    "    j = mid + 1\n",
    "    k = left\n",
    "    inversion_count = 0\n",
    "\n",
    "    while i <= mid and j <= right:\n",
    "        if arr[i] <= arr[j]:\n",
    "            temp_arr[k] = arr[i]\n",
    "            i += 1\n",
    "        else:\n",
    "            temp_arr[k] = arr[j]\n",
    "            j += 1\n",
    "            inversion_count += (mid - i + 1)\n",
    "        k += 1\n",
    "\n",
    "    while i <= mid:\n",
    "        temp_arr[k] = arr[i]\n",
    "        i += 1\n",
    "        k += 1\n",
    "\n",
    "    while j <= right:\n",
    "        temp_arr[k] = arr[j]\n",
    "        j += 1\n",
    "        k += 1\n",
    "\n",
    "    for loop_var in range(left, right + 1):\n",
    "        arr[loop_var] = temp_arr[loop_var]\n",
    "\n",
    "    return inversion_count\n",
    "\n",
    "def merge_sort(arr, temp_arr, left, right):\n",
    "    inversion_count = 0\n",
    "    if left < right:\n",
    "        mid = (left + right) // 2\n",
    "        inversion_count += merge_sort(arr, temp_arr, left, mid)\n",
    "        inversion_count += merge_sort(arr, temp_arr, mid + 1, right)\n",
    "        inversion_count += merge(arr, temp_arr, left, mid, right)\n",
    "    return inversion_count\n",
    "\n",
    "def inversion_count(arr):\n",
    "    n = len(arr)\n",
    "    temp_arr = [0] * n\n",
    "    return merge_sort(arr, temp_arr, 0, n - 1)\n",
    "\n",
    "# Example usage:\n",
    "arr = [10, 1, 2, 4, 13, 9, 5]\n",
    "print(\"The number of inversions:\", inversion_count(arr))\n"
   ]
  },
  {
   "cell_type": "markdown",
   "id": "e038d1cf",
   "metadata": {},
   "source": [
    "## Q.NO 6(A)"
   ]
  },
  {
   "cell_type": "code",
   "execution_count": 7,
   "id": "3af92f98",
   "metadata": {},
   "outputs": [
    {
     "name": "stdout",
     "output_type": "stream",
     "text": [
      "Yes, a pair (4, 6) sums up to 10.\n"
     ]
    }
   ],
   "source": [
    "def two_sum_brute_force(nums, K):\n",
    "    n = len(nums)\n",
    "    for i in range(n):\n",
    "        for j in range(i + 1, n):\n",
    "            if nums[i] + nums[j] == K:\n",
    "                return True, (nums[i], nums[j])\n",
    "    return False, None\n",
    "\n",
    "# Example usage:\n",
    "nums = [8, 4, 1, 6]\n",
    "K = 10\n",
    "found, pair = two_sum_brute_force(nums, K)\n",
    "if found:\n",
    "    print(f\"Yes, a pair ({pair[0]}, {pair[1]}) sums up to {K}.\")\n",
    "else:\n",
    "    print(\"No such pair found.\")"
   ]
  },
  {
   "cell_type": "markdown",
   "id": "11e167e1",
   "metadata": {},
   "source": [
    "## Q.NO 6(B)"
   ]
  },
  {
   "cell_type": "code",
   "execution_count": 8,
   "id": "be743c32",
   "metadata": {},
   "outputs": [
    {
     "name": "stdout",
     "output_type": "stream",
     "text": [
      "Yes, a pair (4, 6) sums up to 10.\n"
     ]
    }
   ],
   "source": [
    "def two_sum_sorted(nums, K):\n",
    "    nums.sort()  # Sort the array in ascending order\n",
    "    left = 0\n",
    "    right = len(nums) - 1\n",
    "    while left < right:\n",
    "        if nums[left] + nums[right] == K:\n",
    "            return True, (nums[left], nums[right])\n",
    "        elif nums[left] + nums[right] < K:\n",
    "            left += 1\n",
    "        else:\n",
    "            right -= 1\n",
    "    return False, None\n",
    "\n",
    "# Example usage:\n",
    "nums = [8, 4, 1, 6]\n",
    "K = 10\n",
    "found, pair = two_sum_sorted(nums, K)\n",
    "if found:\n",
    "    print(f\"Yes, a pair ({pair[0]}, {pair[1]}) sums up to {K}.\")\n",
    "else:\n",
    "    print(\"No such pair found.\")\n"
   ]
  }
 ],
 "metadata": {
  "kernelspec": {
   "display_name": "Python 3 (ipykernel)",
   "language": "python",
   "name": "python3"
  },
  "language_info": {
   "codemirror_mode": {
    "name": "ipython",
    "version": 3
   },
   "file_extension": ".py",
   "mimetype": "text/x-python",
   "name": "python",
   "nbconvert_exporter": "python",
   "pygments_lexer": "ipython3",
   "version": "3.11.5"
  }
 },
 "nbformat": 4,
 "nbformat_minor": 5
}
