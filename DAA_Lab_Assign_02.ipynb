{
 "cells": [
  {
   "cell_type": "markdown",
   "id": "e9ec9ea9",
   "metadata": {},
   "source": [
    "## Q.NO 1"
   ]
  },
  {
   "cell_type": "code",
   "execution_count": 1,
   "id": "f76824e7",
   "metadata": {},
   "outputs": [
    {
     "data": {
      "image/png": "[encoded data removed]",
      "text/plain": [
       "<Figure size 640x480 with 1 Axes>"
      ]
     },
     "metadata": {},
     "output_type": "display_data"
    }
   ],
   "source": [
    "import numpy as np\n",
    "import timeit\n",
    "import matplotlib.pyplot as plt\n",
    "\n",
    "# Generate 1000 random integers between 1 and 10000\n",
    "random_numbers = np.random.randint(1, 10001, size=1000)\n",
    "\n",
    "# Define sorting algorithms to compare\n",
    "def bubble_sort(arr):\n",
    "    n = len(arr)\n",
    "    for i in range(n):\n",
    "        for j in range(0, n-i-1):\n",
    "            if arr[j] > arr[j+1]:\n",
    "                arr[j], arr[j+1] = arr[j+1], arr[j]\n",
    "\n",
    "def selection_sort(arr):\n",
    "    n = len(arr)\n",
    "    for i in range(n):\n",
    "        min_idx = i\n",
    "        for j in range(i+1, n):\n",
    "            if arr[j] < arr[min_idx]:\n",
    "                min_idx = j\n",
    "        arr[i], arr[min_idx] = arr[min_idx], arr[i]\n",
    "\n",
    "def insertion_sort(arr):\n",
    "    for i in range(1, len(arr)):\n",
    "        key = arr[i]\n",
    "        j = i - 1\n",
    "        while j >= 0 and arr[j] > key:\n",
    "            arr[j + 1] = arr[j]\n",
    "            j -= 1\n",
    "        arr[j + 1] = key\n",
    "\n",
    "# Measure time taken for each sorting algorithm\n",
    "bubble_time = timeit.timeit(lambda: bubble_sort(random_numbers.copy()), number=1)\n",
    "selection_time = timeit.timeit(lambda: selection_sort(random_numbers.copy()), number=1)\n",
    "insertion_time = timeit.timeit(lambda: insertion_sort(random_numbers.copy()), number=1)\n",
    "\n",
    "# Plotting\n",
    "sorting_algorithms = ['Bubble Sort', 'Selection Sort', 'Insertion Sort']\n",
    "times = [bubble_time, selection_time, insertion_time]\n",
    "\n",
    "plt.bar(sorting_algorithms, times, color=['blue', 'green', 'orange'])\n",
    "plt.ylabel('Time (seconds)')\n",
    "plt.title('Comparison of Sorting Algorithms')\n",
    "plt.show()\n"
   ]
  },
  {
   "cell_type": "markdown",
   "id": "4b82c2a3",
   "metadata": {},
   "source": [
    "## Q.NO 2"
   ]
  },
  {
   "cell_type": "code",
   "execution_count": 2,
   "id": "a5af94e3",
   "metadata": {},
   "outputs": [
    {
     "name": "stdout",
     "output_type": "stream",
     "text": [
      "Sorted lists in sorted order:\n",
      "[10, 15, 20, 25, 27, 29, 30, 32, 33, 35, 37, 40, 48, 93]\n"
     ]
    }
   ],
   "source": [
    "import heapq\n",
    "\n",
    "def print_sorted_lists(lists):\n",
    "    heap = []  # min-heap to store elements\n",
    "    result = []  # to store the sorted order\n",
    "\n",
    "    # Insert the first element from each list/array into the min-heap\n",
    "    for i, lst in enumerate(lists):\n",
    "        if lst:\n",
    "            heapq.heappush(heap, (lst[0], i, 0))  # (value, list index, element index)\n",
    "\n",
    "    # Pop the smallest element and insert the next element from the same list\n",
    "    while heap:\n",
    "        val, lst_index, ele_index = heapq.heappop(heap)\n",
    "        result.append(val)\n",
    "        \n",
    "        # Check if there are more elements in the same list\n",
    "        if ele_index + 1 < len(lists[lst_index]):\n",
    "            next_val = lists[lst_index][ele_index + 1]\n",
    "            heapq.heappush(heap, (next_val, lst_index, ele_index + 1))\n",
    "\n",
    "    return result\n",
    "\n",
    "# sorted list\n",
    "lists = [\n",
    "    [10, 20,30,40],\n",
    "    [15,25,35],\n",
    "    [27,29,37,48,93],\n",
    "    [32,33]\n",
    "]\n",
    "print(\"Sorted lists in sorted order:\")\n",
    "print(print_sorted_lists(lists))\n"
   ]
  },
  {
   "cell_type": "markdown",
   "id": "cbcbafe7",
   "metadata": {},
   "source": [
    "## Q.NO 3"
   ]
  },
  {
   "cell_type": "code",
   "execution_count": 3,
   "id": "34d35172",
   "metadata": {},
   "outputs": [
    {
     "name": "stdout",
     "output_type": "stream",
     "text": [
      "K largest elements: [10, 9, 8]\n"
     ]
    }
   ],
   "source": [
    "def find_k_largest(nums, k):\n",
    "    nums.sort(reverse=True)\n",
    "    return nums[:k]\n",
    "\n",
    "# Example usage:\n",
    "arr = [3, 10, 4, 5, 7, 8, 9]\n",
    "k = 3\n",
    "result = find_k_largest(arr, k)\n",
    "print(\"K largest elements:\", result)\n"
   ]
  },
  {
   "cell_type": "markdown",
   "id": "0be40399",
   "metadata": {},
   "source": [
    "## Q.NO 4"
   ]
  },
  {
   "cell_type": "code",
   "execution_count": 4,
   "id": "4a4e91b8",
   "metadata": {},
   "outputs": [
    {
     "name": "stdout",
     "output_type": "stream",
     "text": [
      "Maximum number of activities: 4\n",
      "Activities performed: [(1, 4), (5, 7), (8, 11), (12, 14)]\n"
     ]
    }
   ],
   "source": [
    "def max_activities(activities):\n",
    "    # Sort activities based on their finish times\n",
    "    sorted_activities = sorted(activities, key=lambda x: x[1])\n",
    "    \n",
    "    # Initialize variables\n",
    "    prev_finish_time = float('-inf')\n",
    "    max_activities_count = 0\n",
    "    selected_activities = []\n",
    "    \n",
    "    # Iterate through sorted activities\n",
    "    for activity in sorted_activities:\n",
    "        start_time, finish_time = activity\n",
    "        # If the current activity can be performed without overlapping with previous activity\n",
    "        if start_time >= prev_finish_time:\n",
    "            max_activities_count += 1\n",
    "            prev_finish_time = finish_time\n",
    "            selected_activities.append(activity)\n",
    "    \n",
    "    return max_activities_count, selected_activities\n",
    "\n",
    "# Example usage:\n",
    "activities = [(1, 4), (3, 5), (0, 6), (5, 7), (3,8), (5, 9),(6,10),(8,11),(8,12),(2,13),(12,14)]\n",
    "max_count, selected_activities = max_activities(activities)\n",
    "print(\"Maximum number of activities:\", max_count)\n",
    "print(\"Activities performed:\", selected_activities)\n"
   ]
  },
  {
   "cell_type": "markdown",
   "id": "f1041bdf",
   "metadata": {},
   "source": [
    "## Q.NO 5"
   ]
  },
  {
   "cell_type": "code",
   "execution_count": 5,
   "id": "5ea0990b",
   "metadata": {},
   "outputs": [
    {
     "name": "stdout",
     "output_type": "stream",
     "text": [
      "Non-overlapping intervals after merging:\n",
      "[(1, 5), (6, 9)]\n"
     ]
    }
   ],
   "source": [
    "def merge_intervals(intervals):\n",
    "    if not intervals:\n",
    "        return []\n",
    "    \n",
    "    # Sort intervals based on start times\n",
    "    sorted_intervals = sorted(intervals, key=lambda x: x[0])\n",
    "    \n",
    "    merged_intervals = [sorted_intervals[0]]\n",
    "    \n",
    "    for interval in sorted_intervals[1:]:\n",
    "        prev_start, prev_end = merged_intervals[-1]\n",
    "        start, end = interval\n",
    "        \n",
    "        # If the current interval overlaps with the previous merged interval, merge them\n",
    "        if start <= prev_end:\n",
    "            merged_intervals[-1] = (prev_start, max(prev_end, end))\n",
    "        else:\n",
    "            merged_intervals.append(interval)\n",
    "    \n",
    "    return merged_intervals\n",
    "\n",
    "def non_overlapping_intervals(intervals):\n",
    "    merged_intervals = merge_intervals(intervals)\n",
    "    non_overlapping = [merged_intervals[0]]\n",
    "    \n",
    "    for interval in merged_intervals[1:]:\n",
    "        if interval[0] > non_overlapping[-1][1]:\n",
    "            non_overlapping.append(interval)\n",
    "    \n",
    "    return non_overlapping\n",
    "\n",
    "# Example usage:\n",
    "intervals = [(1, 4), (2, 5), (7, 8), (6, 9)]\n",
    "non_overlapping = non_overlapping_intervals(intervals)\n",
    "print(\"Non-overlapping intervals after merging:\")\n",
    "print(non_overlapping)\n"
   ]
  },
  {
   "cell_type": "code",
   "execution_count": null,
   "id": "40786f59",
   "metadata": {},
   "outputs": [],
   "source": [
    " "
   ]
  }
 ],
 "metadata": {
  "kernelspec": {
   "display_name": "Python 3 (ipykernel)",
   "language": "python",
   "name": "python3"
  },
  "language_info": {
   "codemirror_mode": {
    "name": "ipython",
    "version": 3
   },
   "file_extension": ".py",
   "mimetype": "text/x-python",
   "name": "python",
   "nbconvert_exporter": "python",
   "pygments_lexer": "ipython3",
   "version": "3.11.5"
  }
 },
 "nbformat": 4,
 "nbformat_minor": 5
}
